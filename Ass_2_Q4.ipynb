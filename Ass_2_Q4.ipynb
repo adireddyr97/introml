{
  "nbformat": 4,
  "nbformat_minor": 0,
  "metadata": {
    "colab": {
      "name": "Ass_2_Q4.ipynb",
      "provenance": [],
      "authorship_tag": "ABX9TyOP55Qsfcs9TsiqpZjlMgC6"
    },
    "kernelspec": {
      "name": "python3",
      "display_name": "Python 3"
    }
  },
  "cells": [
    {
      "cell_type": "markdown",
      "metadata": {
        "id": "aaSHmfPZ8KN-",
        "colab_type": "text"
      },
      "source": [
        "**Question 4. In this lab, we will illustrate the use of multiple linear re- gression for calibrating robot control. The robot data for the lab is taken from TU Dortmund’s Multiple Link Robot Arms Project. We will focus on predicting the current drawn into one of the joints as a function of the robot motion. Such models are essential in predicting the overall robot power consumption.**"
      ]
    },
    {
      "cell_type": "markdown",
      "metadata": {
        "id": "ANA9z9yF8bKO",
        "colab_type": "text"
      },
      "source": [
        "**a. Read in the data in the attached exp_train.csv file; check that the data that you read actually corresponds to the data in the .csv file. In Python, you can use the commands given at the end of this document.**"
      ]
    },
    {
      "cell_type": "code",
      "metadata": {
        "id": "5fHpJMRk747r",
        "colab_type": "code",
        "colab": {
          "base_uri": "https://localhost:8080/",
          "height": 388
        },
        "outputId": "cca8d663-0952-4afd-b9d8-d0a4bee3f9d3"
      },
      "source": [
        "import numpy as np\n",
        "import pandas as pd\n",
        "import sklearn\n",
        "from sklearn import datasets, linear_model\n",
        "from sklearn.metrics import mean_squared_error\n",
        "\n",
        "names =['t','q1', 'q2', 'q3','dq1', 'dq2', 'dq3','I1', 'I2', 'I3', 'eps21', 'eps22', 'eps31', 'eps32',\n",
        "        'ddq1', 'ddq2', 'ddq3']\n",
        "train_data = pd.read_csv('exp_train.csv', header=None,sep=',', names=names, index_col=0)\n",
        "train_data.head(6)"
      ],
      "execution_count": 25,
      "outputs": [
        {
          "output_type": "execute_result",
          "data": {
            "text/html": [
              "<div>\n",
              "<style scoped>\n",
              "    .dataframe tbody tr th:only-of-type {\n",
              "        vertical-align: middle;\n",
              "    }\n",
              "\n",
              "    .dataframe tbody tr th {\n",
              "        vertical-align: top;\n",
              "    }\n",
              "\n",
              "    .dataframe thead th {\n",
              "        text-align: right;\n",
              "    }\n",
              "</style>\n",
              "<table border=\"1\" class=\"dataframe\">\n",
              "  <thead>\n",
              "    <tr style=\"text-align: right;\">\n",
              "      <th></th>\n",
              "      <th>q1</th>\n",
              "      <th>q2</th>\n",
              "      <th>q3</th>\n",
              "      <th>dq1</th>\n",
              "      <th>dq2</th>\n",
              "      <th>dq3</th>\n",
              "      <th>I1</th>\n",
              "      <th>I2</th>\n",
              "      <th>I3</th>\n",
              "      <th>eps21</th>\n",
              "      <th>eps22</th>\n",
              "      <th>eps31</th>\n",
              "      <th>eps32</th>\n",
              "      <th>ddq1</th>\n",
              "      <th>ddq2</th>\n",
              "      <th>ddq3</th>\n",
              "    </tr>\n",
              "    <tr>\n",
              "      <th>t</th>\n",
              "      <th></th>\n",
              "      <th></th>\n",
              "      <th></th>\n",
              "      <th></th>\n",
              "      <th></th>\n",
              "      <th></th>\n",
              "      <th></th>\n",
              "      <th></th>\n",
              "      <th></th>\n",
              "      <th></th>\n",
              "      <th></th>\n",
              "      <th></th>\n",
              "      <th></th>\n",
              "      <th></th>\n",
              "      <th></th>\n",
              "      <th></th>\n",
              "    </tr>\n",
              "  </thead>\n",
              "  <tbody>\n",
              "    <tr>\n",
              "      <th>0.00</th>\n",
              "      <td>-0.000007</td>\n",
              "      <td>2.4958</td>\n",
              "      <td>-1.1345</td>\n",
              "      <td>-7.882100e-21</td>\n",
              "      <td>-4.940656e-321</td>\n",
              "      <td>3.913100e-29</td>\n",
              "      <td>-0.081623</td>\n",
              "      <td>-0.40812</td>\n",
              "      <td>-0.30609</td>\n",
              "      <td>-269.25</td>\n",
              "      <td>-113.20</td>\n",
              "      <td>3.5918</td>\n",
              "      <td>1.57860</td>\n",
              "      <td>-9.904900e-19</td>\n",
              "      <td>-6.210306e-319</td>\n",
              "      <td>4.917400e-27</td>\n",
              "    </tr>\n",
              "    <tr>\n",
              "      <th>0.01</th>\n",
              "      <td>-0.000007</td>\n",
              "      <td>2.4958</td>\n",
              "      <td>-1.1345</td>\n",
              "      <td>-2.258200e-21</td>\n",
              "      <td>-4.940656e-321</td>\n",
              "      <td>2.626200e-31</td>\n",
              "      <td>-0.037411</td>\n",
              "      <td>-0.37241</td>\n",
              "      <td>-0.26698</td>\n",
              "      <td>-270.91</td>\n",
              "      <td>-116.05</td>\n",
              "      <td>1.4585</td>\n",
              "      <td>-1.73980</td>\n",
              "      <td>4.248100e-19</td>\n",
              "      <td>-1.766878e-319</td>\n",
              "      <td>-1.381100e-27</td>\n",
              "    </tr>\n",
              "    <tr>\n",
              "      <th>0.02</th>\n",
              "      <td>-0.000007</td>\n",
              "      <td>2.4958</td>\n",
              "      <td>-1.1345</td>\n",
              "      <td>-6.469800e-22</td>\n",
              "      <td>-4.940656e-321</td>\n",
              "      <td>1.762500e-33</td>\n",
              "      <td>-0.066319</td>\n",
              "      <td>-0.40302</td>\n",
              "      <td>-0.31459</td>\n",
              "      <td>-269.25</td>\n",
              "      <td>-112.97</td>\n",
              "      <td>3.5918</td>\n",
              "      <td>0.86753</td>\n",
              "      <td>3.233800e-19</td>\n",
              "      <td>-4.990557e-320</td>\n",
              "      <td>-4.117300e-28</td>\n",
              "    </tr>\n",
              "    <tr>\n",
              "      <th>0.03</th>\n",
              "      <td>-0.000007</td>\n",
              "      <td>2.4958</td>\n",
              "      <td>-1.1345</td>\n",
              "      <td>-1.853600e-22</td>\n",
              "      <td>-4.940656e-321</td>\n",
              "      <td>1.182800e-35</td>\n",
              "      <td>-0.068020</td>\n",
              "      <td>-0.43703</td>\n",
              "      <td>-0.28398</td>\n",
              "      <td>-269.97</td>\n",
              "      <td>-114.39</td>\n",
              "      <td>1.6956</td>\n",
              "      <td>-0.08059</td>\n",
              "      <td>1.500500e-19</td>\n",
              "      <td>-1.394253e-320</td>\n",
              "      <td>-1.173100e-28</td>\n",
              "    </tr>\n",
              "    <tr>\n",
              "      <th>0.04</th>\n",
              "      <td>-0.000007</td>\n",
              "      <td>2.4958</td>\n",
              "      <td>-1.1345</td>\n",
              "      <td>-5.310600e-23</td>\n",
              "      <td>-4.940656e-321</td>\n",
              "      <td>-5.270900e-03</td>\n",
              "      <td>-0.052715</td>\n",
              "      <td>-0.40472</td>\n",
              "      <td>-0.30779</td>\n",
              "      <td>-269.97</td>\n",
              "      <td>-114.15</td>\n",
              "      <td>3.1177</td>\n",
              "      <td>0.86753</td>\n",
              "      <td>5.932400e-20</td>\n",
              "      <td>-3.581976e-321</td>\n",
              "      <td>-3.770800e-01</td>\n",
              "    </tr>\n",
              "    <tr>\n",
              "      <th>0.05</th>\n",
              "      <td>-0.000007</td>\n",
              "      <td>2.4958</td>\n",
              "      <td>-1.1345</td>\n",
              "      <td>-1.521500e-23</td>\n",
              "      <td>-4.940656e-321</td>\n",
              "      <td>3.252600e-04</td>\n",
              "      <td>-0.088425</td>\n",
              "      <td>-0.42342</td>\n",
              "      <td>-0.29589</td>\n",
              "      <td>-269.25</td>\n",
              "      <td>-114.15</td>\n",
              "      <td>2.4066</td>\n",
              "      <td>-0.08059</td>\n",
              "      <td>2.164600e-20</td>\n",
              "      <td>-1.141292e-321</td>\n",
              "      <td>2.930300e-01</td>\n",
              "    </tr>\n",
              "  </tbody>\n",
              "</table>\n",
              "</div>"
            ],
            "text/plain": [
              "            q1      q2      q3  ...          ddq1           ddq2          ddq3\n",
              "t                               ...                                           \n",
              "0.00 -0.000007  2.4958 -1.1345  ... -9.904900e-19 -6.210306e-319  4.917400e-27\n",
              "0.01 -0.000007  2.4958 -1.1345  ...  4.248100e-19 -1.766878e-319 -1.381100e-27\n",
              "0.02 -0.000007  2.4958 -1.1345  ...  3.233800e-19 -4.990557e-320 -4.117300e-28\n",
              "0.03 -0.000007  2.4958 -1.1345  ...  1.500500e-19 -1.394253e-320 -1.173100e-28\n",
              "0.04 -0.000007  2.4958 -1.1345  ...  5.932400e-20 -3.581976e-321 -3.770800e-01\n",
              "0.05 -0.000007  2.4958 -1.1345  ...  2.164600e-20 -1.141292e-321  2.930300e-01\n",
              "\n",
              "[6 rows x 16 columns]"
            ]
          },
          "metadata": {
            "tags": []
          },
          "execution_count": 25
        }
      ]
    },
    {
      "cell_type": "markdown",
      "metadata": {
        "id": "rjHX5DFx4LFP",
        "colab_type": "text"
      },
      "source": [
        "After checking the data with the .csv file we observe that both of them are same."
      ]
    },
    {
      "cell_type": "markdown",
      "metadata": {
        "id": "TaOYCell3wer",
        "colab_type": "text"
      },
      "source": [
        "**b. Create the training data:\n",
        "• Labels y: A vector of all the samples in the ‘I2’ column\n",
        "• Data X : A matrix of the data with the columns: [‘q2’,‘dq2’,‘eps21’,\n",
        "‘eps22’, ‘eps31’, ‘eps32’,‘ddq2’]**"
      ]
    },
    {
      "cell_type": "code",
      "metadata": {
        "id": "JxTk4s0W6xmV",
        "colab_type": "code",
        "colab": {}
      },
      "source": [
        "train_y=train_data['I2']\n",
        "train_x=train_data.drop(['q1','q3','dq1','dq3','I1','I2','I3','eps21','eps32','ddq1','ddq3'],axis=1)"
      ],
      "execution_count": 0,
      "outputs": []
    },
    {
      "cell_type": "markdown",
      "metadata": {
        "id": "MyYo_9eBBWvx",
        "colab_type": "text"
      },
      "source": [
        "**c. Fit a linear model between X and y (using sklearn, or any other library of your choice). Report the MSE of your model.**"
      ]
    },
    {
      "cell_type": "code",
      "metadata": {
        "id": "VFejA5RB_cKz",
        "colab_type": "code",
        "colab": {
          "base_uri": "https://localhost:8080/",
          "height": 34
        },
        "outputId": "ec2e0775-3b1f-4bee-9797-3a87154005c1"
      },
      "source": [
        "regr=linear_model.LinearRegression()\n",
        "\n",
        "regr.fit(train_x,train_y)\n",
        "\n",
        "train_y_pred=regr.predict(train_x)\n",
        "MSE=mean_squared_error(train_y,train_y_pred)\n",
        "\n",
        "print(MSE)"
      ],
      "execution_count": 47,
      "outputs": [
        {
          "output_type": "stream",
          "text": [
            "0.011149459257621544\n"
          ],
          "name": "stdout"
        }
      ]
    },
    {
      "cell_type": "markdown",
      "metadata": {
        "id": "RxP-gBlpBplw",
        "colab_type": "text"
      },
      "source": [
        "**d. Using the linear model that you trained above, report the MSE on the test data contained in the attached exp_test.csv file.**"
      ]
    },
    {
      "cell_type": "code",
      "metadata": {
        "id": "KiGrKzuK9CR5",
        "colab_type": "code",
        "colab": {
          "base_uri": "https://localhost:8080/",
          "height": 388
        },
        "outputId": "1905219b-640d-416c-e038-5dbae14deabb"
      },
      "source": [
        "test_data=pd.read_csv('exp_test.csv', header=None,sep=',', names=names, index_col=0)\n",
        "test_data.head(6)"
      ],
      "execution_count": 38,
      "outputs": [
        {
          "output_type": "execute_result",
          "data": {
            "text/html": [
              "<div>\n",
              "<style scoped>\n",
              "    .dataframe tbody tr th:only-of-type {\n",
              "        vertical-align: middle;\n",
              "    }\n",
              "\n",
              "    .dataframe tbody tr th {\n",
              "        vertical-align: top;\n",
              "    }\n",
              "\n",
              "    .dataframe thead th {\n",
              "        text-align: right;\n",
              "    }\n",
              "</style>\n",
              "<table border=\"1\" class=\"dataframe\">\n",
              "  <thead>\n",
              "    <tr style=\"text-align: right;\">\n",
              "      <th></th>\n",
              "      <th>q1</th>\n",
              "      <th>q2</th>\n",
              "      <th>q3</th>\n",
              "      <th>dq1</th>\n",
              "      <th>dq2</th>\n",
              "      <th>dq3</th>\n",
              "      <th>I1</th>\n",
              "      <th>I2</th>\n",
              "      <th>I3</th>\n",
              "      <th>eps21</th>\n",
              "      <th>eps22</th>\n",
              "      <th>eps31</th>\n",
              "      <th>eps32</th>\n",
              "      <th>ddq1</th>\n",
              "      <th>ddq2</th>\n",
              "      <th>ddq3</th>\n",
              "    </tr>\n",
              "    <tr>\n",
              "      <th>t</th>\n",
              "      <th></th>\n",
              "      <th></th>\n",
              "      <th></th>\n",
              "      <th></th>\n",
              "      <th></th>\n",
              "      <th></th>\n",
              "      <th></th>\n",
              "      <th></th>\n",
              "      <th></th>\n",
              "      <th></th>\n",
              "      <th></th>\n",
              "      <th></th>\n",
              "      <th></th>\n",
              "      <th></th>\n",
              "      <th></th>\n",
              "      <th></th>\n",
              "    </tr>\n",
              "  </thead>\n",
              "  <tbody>\n",
              "    <tr>\n",
              "      <th>0.00</th>\n",
              "      <td>-0.000007</td>\n",
              "      <td>1.9024</td>\n",
              "      <td>0.26063</td>\n",
              "      <td>-0.000364</td>\n",
              "      <td>4.940656e-321</td>\n",
              "      <td>0.012596</td>\n",
              "      <td>-0.096928</td>\n",
              "      <td>-0.15134</td>\n",
              "      <td>-0.017005</td>\n",
              "      <td>-130.83</td>\n",
              "      <td>-41.856</td>\n",
              "      <td>-6.3635</td>\n",
              "      <td>5.13410</td>\n",
              "      <td>-0.045712</td>\n",
              "      <td>6.210306e-319</td>\n",
              "      <td>1.582900</td>\n",
              "    </tr>\n",
              "    <tr>\n",
              "      <th>0.01</th>\n",
              "      <td>0.000013</td>\n",
              "      <td>1.9024</td>\n",
              "      <td>0.26073</td>\n",
              "      <td>0.000739</td>\n",
              "      <td>4.940656e-321</td>\n",
              "      <td>0.012095</td>\n",
              "      <td>-0.028908</td>\n",
              "      <td>-0.11903</td>\n",
              "      <td>-0.020406</td>\n",
              "      <td>-138.18</td>\n",
              "      <td>-51.100</td>\n",
              "      <td>-14.6590</td>\n",
              "      <td>-5.05820</td>\n",
              "      <td>0.125580</td>\n",
              "      <td>1.766878e-319</td>\n",
              "      <td>0.414660</td>\n",
              "    </tr>\n",
              "    <tr>\n",
              "      <th>0.02</th>\n",
              "      <td>-0.000007</td>\n",
              "      <td>1.9024</td>\n",
              "      <td>0.26086</td>\n",
              "      <td>-0.000580</td>\n",
              "      <td>4.940656e-321</td>\n",
              "      <td>0.011596</td>\n",
              "      <td>-0.059517</td>\n",
              "      <td>-0.13944</td>\n",
              "      <td>-0.047614</td>\n",
              "      <td>-139.36</td>\n",
              "      <td>-51.812</td>\n",
              "      <td>-14.6590</td>\n",
              "      <td>-5.29520</td>\n",
              "      <td>-0.130080</td>\n",
              "      <td>4.990557e-320</td>\n",
              "      <td>0.082286</td>\n",
              "    </tr>\n",
              "    <tr>\n",
              "      <th>0.03</th>\n",
              "      <td>0.000013</td>\n",
              "      <td>1.9024</td>\n",
              "      <td>0.26099</td>\n",
              "      <td>0.001409</td>\n",
              "      <td>4.940656e-321</td>\n",
              "      <td>0.013933</td>\n",
              "      <td>-0.079923</td>\n",
              "      <td>-0.15304</td>\n",
              "      <td>-0.023807</td>\n",
              "      <td>-135.57</td>\n",
              "      <td>-48.019</td>\n",
              "      <td>-11.3410</td>\n",
              "      <td>-0.79168</td>\n",
              "      <td>0.213010</td>\n",
              "      <td>1.394253e-320</td>\n",
              "      <td>0.190650</td>\n",
              "    </tr>\n",
              "    <tr>\n",
              "      <th>0.04</th>\n",
              "      <td>-0.000007</td>\n",
              "      <td>1.9024</td>\n",
              "      <td>0.26110</td>\n",
              "      <td>-0.001273</td>\n",
              "      <td>4.940656e-321</td>\n",
              "      <td>0.010793</td>\n",
              "      <td>-0.025507</td>\n",
              "      <td>-0.12924</td>\n",
              "      <td>-0.006802</td>\n",
              "      <td>-135.81</td>\n",
              "      <td>-49.204</td>\n",
              "      <td>-12.0520</td>\n",
              "      <td>-2.21390</td>\n",
              "      <td>-0.276490</td>\n",
              "      <td>3.581976e-321</td>\n",
              "      <td>-0.170400</td>\n",
              "    </tr>\n",
              "    <tr>\n",
              "      <th>0.05</th>\n",
              "      <td>-0.000007</td>\n",
              "      <td>1.9024</td>\n",
              "      <td>0.26124</td>\n",
              "      <td>0.001928</td>\n",
              "      <td>4.940656e-321</td>\n",
              "      <td>0.011915</td>\n",
              "      <td>-0.083324</td>\n",
              "      <td>-0.14964</td>\n",
              "      <td>-0.034010</td>\n",
              "      <td>-139.60</td>\n",
              "      <td>-53.471</td>\n",
              "      <td>-16.0820</td>\n",
              "      <td>-6.95450</td>\n",
              "      <td>0.323560</td>\n",
              "      <td>1.141292e-321</td>\n",
              "      <td>0.031745</td>\n",
              "    </tr>\n",
              "  </tbody>\n",
              "</table>\n",
              "</div>"
            ],
            "text/plain": [
              "            q1      q2       q3  ...      ddq1           ddq2      ddq3\n",
              "t                                ...                                   \n",
              "0.00 -0.000007  1.9024  0.26063  ... -0.045712  6.210306e-319  1.582900\n",
              "0.01  0.000013  1.9024  0.26073  ...  0.125580  1.766878e-319  0.414660\n",
              "0.02 -0.000007  1.9024  0.26086  ... -0.130080  4.990557e-320  0.082286\n",
              "0.03  0.000013  1.9024  0.26099  ...  0.213010  1.394253e-320  0.190650\n",
              "0.04 -0.000007  1.9024  0.26110  ... -0.276490  3.581976e-321 -0.170400\n",
              "0.05 -0.000007  1.9024  0.26124  ...  0.323560  1.141292e-321  0.031745\n",
              "\n",
              "[6 rows x 16 columns]"
            ]
          },
          "metadata": {
            "tags": []
          },
          "execution_count": 38
        }
      ]
    },
    {
      "cell_type": "code",
      "metadata": {
        "id": "JuxoTQP16fcQ",
        "colab_type": "code",
        "colab": {
          "base_uri": "https://localhost:8080/",
          "height": 34
        },
        "outputId": "68178488-c3bb-4ca3-82b7-2350b8507cb1"
      },
      "source": [
        "test_y=test_data['I2']\n",
        "test_x=test_data.drop(['q1','q3','dq1','dq3','I1','I2','I3','eps21','eps32','ddq1','ddq3'],axis=1)\n",
        "regr.fit(test_x,test_y)\n",
        "pred=regr.predict(test_x)\n",
        "MSE=mean_squared_error(test_y,pred)\n",
        "print(MSE)"
      ],
      "execution_count": 46,
      "outputs": [
        {
          "output_type": "stream",
          "text": [
            "0.008033360068555156\n"
          ],
          "name": "stdout"
        }
      ]
    }
  ]
}